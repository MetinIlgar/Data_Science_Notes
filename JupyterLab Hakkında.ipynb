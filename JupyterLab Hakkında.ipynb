{
 "cells": [
  {
   "cell_type": "markdown",
   "metadata": {},
   "source": [
    "Klavyeden \"c\" tuşu hücreleri kopyalamayı sağlar."
   ]
  },
  {
   "cell_type": "markdown",
   "metadata": {},
   "source": [
    "Klavyeden \"v\" tuşu hücreleri yapıştırmayı sağlar."
   ]
  },
  {
   "cell_type": "markdown",
   "metadata": {},
   "source": [
    "Klavyeden \"x\" tuşu hücreleri kesmeyi sağlar."
   ]
  },
  {
   "cell_type": "markdown",
   "metadata": {},
   "source": [
    "Klavyeden \"dd\" tuşu hücreleri silmeyi sağlar."
   ]
  },
  {
   "cell_type": "markdown",
   "metadata": {},
   "source": [
    "# Tek \"#\" işareti ana başlık."
   ]
  },
  {
   "cell_type": "markdown",
   "metadata": {},
   "source": [
    "## İki \"#\" işareti alt başlık."
   ]
  },
  {
   "cell_type": "markdown",
   "metadata": {},
   "source": [
    "###### En fazla 6 tane # işaretini kullanabiliriz ve gittikçe küçülür"
   ]
  },
  {
   "cell_type": "markdown",
   "metadata": {},
   "source": [
    "* Madde 1\n",
    "* Madde 2"
   ]
  },
  {
   "cell_type": "markdown",
   "metadata": {},
   "source": [
    "**Bu yazı bir kalın yazıdır.**"
   ]
  },
  {
   "cell_type": "markdown",
   "metadata": {},
   "source": [
    "_Bu yazı italik yazıdır_"
   ]
  },
  {
   "cell_type": "markdown",
   "metadata": {},
   "source": [
    "\"A\" üste hücre açar. \"B\" alta hücre açar"
   ]
  },
  {
   "cell_type": "markdown",
   "metadata": {},
   "source": []
  }
 ],
 "metadata": {
  "kernelspec": {
   "display_name": "Python 3",
   "language": "python",
   "name": "python3"
  },
  "language_info": {
   "codemirror_mode": {
    "name": "ipython",
    "version": 3
   },
   "file_extension": ".py",
   "mimetype": "text/x-python",
   "name": "python",
   "nbconvert_exporter": "python",
   "pygments_lexer": "ipython3",
   "version": "3.7.6"
  }
 },
 "nbformat": 4,
 "nbformat_minor": 4
}
